{
 "cells": [
  {
   "cell_type": "code",
   "execution_count": 33,
   "metadata": {},
   "outputs": [],
   "source": [
    "import numpy as np\n",
    "from sklearn.decomposition import PCA"
   ]
  },
  {
   "cell_type": "code",
   "execution_count": 34,
   "metadata": {},
   "outputs": [
    {
     "name": "stdout",
     "output_type": "stream",
     "text": [
      "Transformed data:\n",
      " [[0.         0.5        0.29032258 ... 0.05813953 0.         1.        ]\n",
      " [0.         1.         0.62903226 ... 0.         0.         1.        ]\n",
      " [0.         0.5        0.70967742 ... 0.         0.         0.        ]\n",
      " ...\n",
      " [0.         0.5        0.48387097 ... 0.         0.         0.        ]\n",
      " [0.         1.         0.70967742 ... 0.19767442 0.         0.        ]\n",
      " [0.         0.5        0.9516129  ... 0.         0.         0.        ]]\n"
     ]
    }
   ],
   "source": [
    "# Load your dataset skipping the first row\n",
    "X = np.genfromtxt('New_Dataset.csv', delimiter=',', skip_header=1)\n",
    "print('Transformed data:\\n', X)"
   ]
  },
  {
   "cell_type": "code",
   "execution_count": null,
   "metadata": {},
   "outputs": [],
   "source": [
    "# Initialize PCA with the number of components you want to keep\n",
    "pca = PCA(n_components=2)"
   ]
  },
  {
   "cell_type": "code",
   "execution_count": null,
   "metadata": {},
   "outputs": [
    {
     "name": "stdout",
     "output_type": "stream",
     "text": [
      "PCA(n_components=2)\n"
     ]
    }
   ],
   "source": [
    "print(pca)"
   ]
  },
  {
   "cell_type": "code",
   "execution_count": null,
   "metadata": {},
   "outputs": [],
   "source": [
    "# Apply PCA on your dataset\n",
    "X_pca = pca.fit_transform(X)"
   ]
  },
  {
   "cell_type": "code",
   "execution_count": null,
   "metadata": {},
   "outputs": [
    {
     "name": "stdout",
     "output_type": "stream",
     "text": [
      "Explained variance ratio: [0.44908162 0.1882176 ]\n"
     ]
    }
   ],
   "source": [
    "# Print the explained variance ratio\n",
    "print('Explained variance ratio:', pca.explained_variance_ratio_)"
   ]
  },
  {
   "cell_type": "code",
   "execution_count": null,
   "metadata": {},
   "outputs": [
    {
     "name": "stdout",
     "output_type": "stream",
     "text": [
      "Transformed data:\n",
      " [[-0.59367888  0.02632237]\n",
      " [-0.06914718  0.4060655 ]\n",
      " [ 1.74103562 -0.51452423]\n",
      " ...\n",
      " [ 1.76241032 -0.54988573]\n",
      " [ 0.40248615  0.44579361]\n",
      " [ 1.80842663 -0.43793873]]\n"
     ]
    }
   ],
   "source": [
    "# Print the transformed data\n",
    "print('Transformed data:\\n', X_pca)"
   ]
  }
 ],
 "metadata": {
  "kernelspec": {
   "display_name": "Python 3",
   "language": "python",
   "name": "python3"
  },
  "language_info": {
   "codemirror_mode": {
    "name": "ipython",
    "version": 3
   },
   "file_extension": ".py",
   "mimetype": "text/x-python",
   "name": "python",
   "nbconvert_exporter": "python",
   "pygments_lexer": "ipython3",
   "version": "3.10.8"
  },
  "orig_nbformat": 4
 },
 "nbformat": 4,
 "nbformat_minor": 2
}
